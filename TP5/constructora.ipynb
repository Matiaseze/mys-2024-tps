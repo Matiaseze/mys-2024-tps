{
 "cells": [
  {
   "cell_type": "code",
   "execution_count": 20,
   "metadata": {},
   "outputs": [],
   "source": [
    "from constructora import *\n"
   ]
  },
  {
   "cell_type": "code",
   "execution_count": 21,
   "metadata": {},
   "outputs": [],
   "source": [
    "num_experimentos = 30\n",
    "num_corridas = 100\n",
    "\n",
    "tiempos_experimentos = []\n",
    "tiempo_proyecto = []\n",
    "criticidad_accesos_experimentos = []"
   ]
  },
  {
   "cell_type": "code",
   "execution_count": 23,
   "metadata": {},
   "outputs": [
    {
     "ename": "UnboundLocalError",
     "evalue": "cannot access local variable 'tarea' where it is not associated with a value",
     "output_type": "error",
     "traceback": [
      "\u001b[1;31m---------------------------------------------------------------------------\u001b[0m",
      "\u001b[1;31mUnboundLocalError\u001b[0m                         Traceback (most recent call last)",
      "\u001b[1;32m~\\AppData\\Local\\Temp\\ipykernel_9328\\1896733255.py\u001b[0m in \u001b[0;36m<module>\u001b[1;34m\u001b[0m\n\u001b[0;32m      1\u001b[0m \u001b[1;31m# 1.\u001b[0m\u001b[1;33m\u001b[0m\u001b[1;33m\u001b[0m\u001b[0m\n\u001b[1;32m----> 2\u001b[1;33m \u001b[0mtiempos_experimentos\u001b[0m\u001b[1;33m,\u001b[0m \u001b[0mtiempo_proyecto\u001b[0m\u001b[1;33m,\u001b[0m \u001b[0mcriticidad_accesos_experimentos\u001b[0m \u001b[1;33m=\u001b[0m \u001b[0msimular_proyecto\u001b[0m\u001b[1;33m(\u001b[0m\u001b[0mnum_experimentos\u001b[0m\u001b[1;33m,\u001b[0m \u001b[0mnum_corridas\u001b[0m\u001b[1;33m)\u001b[0m\u001b[1;33m\u001b[0m\u001b[1;33m\u001b[0m\u001b[0m\n\u001b[0m\u001b[0;32m      3\u001b[0m \u001b[0mic_99_inf\u001b[0m\u001b[1;33m,\u001b[0m \u001b[0mic_99_sup\u001b[0m \u001b[1;33m=\u001b[0m \u001b[0mcalcular_ic99_exp\u001b[0m\u001b[1;33m(\u001b[0m\u001b[0mtiempos_experimentos\u001b[0m\u001b[1;33m)\u001b[0m\u001b[1;33m\u001b[0m\u001b[1;33m\u001b[0m\u001b[0m\n",
      "\u001b[1;32mc:\\Users\\mbarea\\Documents\\project\\mys-2024-tps\\TP5\\constructora.py\u001b[0m in \u001b[0;36msimular_proyecto\u001b[1;34m(num_experimentos, num_corridas)\u001b[0m\n\u001b[0;32m     99\u001b[0m \u001b[1;33m\u001b[0m\u001b[0m\n\u001b[0;32m    100\u001b[0m     \u001b[1;32mfor\u001b[0m \u001b[0mcriticidad_accesos\u001b[0m \u001b[1;32min\u001b[0m \u001b[0mcriticidad_accesos_experimentos\u001b[0m\u001b[1;33m:\u001b[0m\u001b[1;33m\u001b[0m\u001b[1;33m\u001b[0m\u001b[0m\n\u001b[1;32m--> 101\u001b[1;33m         \u001b[1;32mfor\u001b[0m \u001b[0mkey\u001b[0m\u001b[1;33m,\u001b[0m \u001b[0mvalue\u001b[0m \u001b[1;32min\u001b[0m \u001b[0mcriticidad_accesos\u001b[0m\u001b[1;33m.\u001b[0m\u001b[0mitems\u001b[0m\u001b[1;33m(\u001b[0m\u001b[1;33m)\u001b[0m\u001b[1;33m:\u001b[0m\u001b[1;33m\u001b[0m\u001b[1;33m\u001b[0m\u001b[0m\n\u001b[0m\u001b[0;32m    102\u001b[0m             \u001b[0mcriticidad_accesos_totales\u001b[0m\u001b[1;33m[\u001b[0m\u001b[0mkey\u001b[0m\u001b[1;33m]\u001b[0m \u001b[1;33m+=\u001b[0m \u001b[0mvalue\u001b[0m\u001b[1;33m\u001b[0m\u001b[1;33m\u001b[0m\u001b[0m\n\u001b[0;32m    103\u001b[0m \u001b[1;33m\u001b[0m\u001b[0m\n",
      "\u001b[1;32mc:\\Users\\mbarea\\Documents\\project\\mys-2024-tps\\TP5\\constructora.py\u001b[0m in \u001b[0;36msimular_experimento\u001b[1;34m(num_corridas)\u001b[0m\n\u001b[0;32m     74\u001b[0m         \u001b[0mtiempos_corridas\u001b[0m\u001b[1;33m,\u001b[0m \u001b[0mcriticidad_accesos\u001b[0m \u001b[1;33m=\u001b[0m \u001b[0msimular_experimento\u001b[0m\u001b[1;33m(\u001b[0m\u001b[0mnum_corridas\u001b[0m\u001b[1;33m)\u001b[0m\u001b[1;33m\u001b[0m\u001b[1;33m\u001b[0m\u001b[0m\n\u001b[0;32m     75\u001b[0m \u001b[1;33m\u001b[0m\u001b[0m\n\u001b[1;32m---> 76\u001b[1;33m         \u001b[0mtiempos_experimentos\u001b[0m\u001b[1;33m.\u001b[0m\u001b[0mappend\u001b[0m\u001b[1;33m(\u001b[0m\u001b[0mtiempos_corridas\u001b[0m\u001b[1;33m)\u001b[0m\u001b[1;33m\u001b[0m\u001b[1;33m\u001b[0m\u001b[0m\n\u001b[0m\u001b[0;32m     77\u001b[0m         \u001b[0mcriticidad_accesos_experimentos\u001b[0m\u001b[1;33m.\u001b[0m\u001b[0mappend\u001b[0m\u001b[1;33m(\u001b[0m\u001b[0mcriticidad_accesos\u001b[0m\u001b[1;33m)\u001b[0m\u001b[1;33m\u001b[0m\u001b[1;33m\u001b[0m\u001b[0m\n\u001b[0;32m     78\u001b[0m         \u001b[0mtiempo_proyecto\u001b[0m\u001b[1;33m.\u001b[0m\u001b[0mappend\u001b[0m\u001b[1;33m(\u001b[0m\u001b[0mnp\u001b[0m\u001b[1;33m.\u001b[0m\u001b[0mmean\u001b[0m\u001b[1;33m(\u001b[0m\u001b[0mtiempos_experimentos\u001b[0m\u001b[1;33m)\u001b[0m\u001b[1;33m)\u001b[0m\u001b[1;33m\u001b[0m\u001b[1;33m\u001b[0m\u001b[0m\n",
      "\u001b[1;32mc:\\Users\\mbarea\\Documents\\project\\mys-2024-tps\\TP5\\constructora.py\u001b[0m in \u001b[0;36msimular_tareas\u001b[1;34m()\u001b[0m\n\u001b[0;32m     42\u001b[0m \u001b[1;33m\u001b[0m\u001b[0m\n\u001b[0;32m     43\u001b[0m \"\"\"\n\u001b[1;32m---> 44\u001b[1;33m \u001b[1;32mdef\u001b[0m \u001b[0msimular_experimento\u001b[0m\u001b[1;33m(\u001b[0m\u001b[0mnum_corridas\u001b[0m\u001b[1;33m)\u001b[0m\u001b[1;33m:\u001b[0m\u001b[1;33m\u001b[0m\u001b[1;33m\u001b[0m\u001b[0m\n\u001b[0m\u001b[0;32m     45\u001b[0m     \u001b[0mtiempos_corridas\u001b[0m \u001b[1;33m=\u001b[0m \u001b[1;33m[\u001b[0m\u001b[1;33m]\u001b[0m\u001b[1;33m\u001b[0m\u001b[1;33m\u001b[0m\u001b[0m\n\u001b[0;32m     46\u001b[0m     \u001b[0mcriticidad_accesos\u001b[0m \u001b[1;33m=\u001b[0m \u001b[1;33m{\u001b[0m\u001b[1;34m'inicial'\u001b[0m\u001b[1;33m:\u001b[0m \u001b[1;36m0\u001b[0m\u001b[1;33m,\u001b[0m \u001b[1;34m'superior'\u001b[0m\u001b[1;33m:\u001b[0m \u001b[1;36m0\u001b[0m\u001b[1;33m,\u001b[0m \u001b[1;34m'medio'\u001b[0m\u001b[1;33m:\u001b[0m \u001b[1;36m0\u001b[0m\u001b[1;33m,\u001b[0m \u001b[1;34m'inferior'\u001b[0m\u001b[1;33m:\u001b[0m \u001b[1;36m0\u001b[0m\u001b[1;33m}\u001b[0m\u001b[1;33m\u001b[0m\u001b[1;33m\u001b[0m\u001b[0m\n",
      "\u001b[1;32mc:\\Users\\mbarea\\Documents\\project\\mys-2024-tps\\TP5\\constructora.py\u001b[0m in \u001b[0;36mrealizar_tarea\u001b[1;34m(ref)\u001b[0m\n\u001b[0;32m     35\u001b[0m     \u001b[0macceso_inferior\u001b[0m \u001b[1;33m=\u001b[0m \u001b[0mmax\u001b[0m\u001b[1;33m(\u001b[0m\u001b[0mtarea_f\u001b[0m \u001b[1;33m+\u001b[0m \u001b[0mtarea_i\u001b[0m\u001b[1;33m)\u001b[0m\u001b[1;33m\u001b[0m\u001b[1;33m\u001b[0m\u001b[0m\n\u001b[0;32m     36\u001b[0m \u001b[1;33m\u001b[0m\u001b[0m\n\u001b[1;32m---> 37\u001b[1;33m     \u001b[0mtiempo_total\u001b[0m \u001b[1;33m=\u001b[0m \u001b[0mmax\u001b[0m\u001b[1;33m(\u001b[0m\u001b[0mtareas_iniciales\u001b[0m\u001b[1;33m,\u001b[0m \u001b[0macceso_superior\u001b[0m\u001b[1;33m,\u001b[0m \u001b[0macceso_medio\u001b[0m\u001b[1;33m,\u001b[0m \u001b[0macceso_inferior\u001b[0m\u001b[1;33m)\u001b[0m \u001b[1;31m#El tiempo maximo de los 3 accesos\u001b[0m\u001b[1;33m\u001b[0m\u001b[1;33m\u001b[0m\u001b[0m\n\u001b[0m\u001b[0;32m     38\u001b[0m     \u001b[1;32mreturn\u001b[0m \u001b[0mtiempo_total\u001b[0m\u001b[1;33m,\u001b[0m \u001b[0mtareas_iniciales\u001b[0m\u001b[1;33m,\u001b[0m \u001b[0macceso_superior\u001b[0m\u001b[1;33m,\u001b[0m \u001b[0macceso_medio\u001b[0m\u001b[1;33m,\u001b[0m \u001b[0macceso_inferior\u001b[0m\u001b[1;33m\u001b[0m\u001b[1;33m\u001b[0m\u001b[0m\n\u001b[0;32m     39\u001b[0m \u001b[1;33m\u001b[0m\u001b[0m\n",
      "\u001b[1;31mUnboundLocalError\u001b[0m: cannot access local variable 'tarea' where it is not associated with a value"
     ]
    }
   ],
   "source": [
    "# 1.\n",
    "tiempos_experimentos, tiempo_proyecto, criticidad_accesos_experimentos = simular_proyecto(num_experimentos, num_corridas)\n",
    "ic_99_inf, ic_99_sup = calcular_ic99_exp(tiempos_experimentos)"
   ]
  },
  {
   "cell_type": "code",
   "execution_count": null,
   "metadata": {},
   "outputs": [],
   "source": [
    "# 2.\n",
    "total_corridas = num_experimentos * num_corridas\n",
    "calcular_criticidad_accesos(total_corridas, criticidad_accesos_experimentos)"
   ]
  },
  {
   "cell_type": "code",
   "execution_count": null,
   "metadata": {},
   "outputs": [],
   "source": [
    "# 3.\n",
    "graficar_histogramas(tiempo_proyecto, tiempos_experimentos)"
   ]
  }
 ],
 "metadata": {
  "kernelspec": {
   "display_name": "Python 3",
   "language": "python",
   "name": "python3"
  },
  "language_info": {
   "codemirror_mode": {
    "name": "ipython",
    "version": 3
   },
   "file_extension": ".py",
   "mimetype": "text/x-python",
   "name": "python",
   "nbconvert_exporter": "python",
   "pygments_lexer": "ipython3",
   "version": "3.11.2"
  }
 },
 "nbformat": 4,
 "nbformat_minor": 2
}
