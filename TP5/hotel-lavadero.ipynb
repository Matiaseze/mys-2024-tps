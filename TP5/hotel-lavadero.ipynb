{
 "cells": [
  {
   "cell_type": "markdown",
   "metadata": {},
   "source": [
    "# Modelos y Simulación\n",
    "\n",
    "## Trabajo Práctico N°5: \n",
    "## Simulación de Proyectos\n",
    "\n",
    "### Alumno: Barea Matias\n",
    "\n",
    "### Profesores: Lic. Claudia López de Munain - Lic. Bruno Alfredo Pazos\n"
   ]
  },
  {
   "cell_type": "markdown",
   "metadata": {},
   "source": [
    "c. Simule 30 experimentos de 100 corridas cada una y calcule:\n",
    "    1. El tiempo promedio de finalización del proyecto y el IC. Con el 99% de probabilidad (2,57).\n",
    "    2. Calcule el porcentaje de criticidad tienen los diferentes accesos. En el caso del ejercicio 3, evalúe el porcentaje de criticidad de cada tarea.\n",
    "    3.Grafique un histograma con la distribución del tiempo de realización del proyecto con los datos de las 3000 corridas. Y otro teniendo en cuenta los promedios de los 30 experimentos."
   ]
  },
  {
   "cell_type": "code",
   "execution_count": null,
   "metadata": {},
   "outputs": [],
   "source": [
    "from hotel import \n",
    "\n",
    "\n",
    " "
   ]
  }
 ],
 "metadata": {
  "kernelspec": {
   "display_name": "Python 3",
   "language": "python",
   "name": "python3"
  },
  "language_info": {
   "codemirror_mode": {
    "name": "ipython",
    "version": 3
   },
   "file_extension": ".py",
   "mimetype": "text/x-python",
   "name": "python",
   "nbconvert_exporter": "python",
   "pygments_lexer": "ipython3",
   "version": "3.11.5"
  }
 },
 "nbformat": 4,
 "nbformat_minor": 2
}
