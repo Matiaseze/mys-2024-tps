{
 "cells": [
  {
   "cell_type": "code",
   "execution_count": null,
   "metadata": {},
   "outputs": [],
   "source": [
    "\n"
   ]
  },
  {
   "cell_type": "code",
   "execution_count": 42,
   "metadata": {},
   "outputs": [],
   "source": [
    "import numpy as np\n",
    "import matplotlib.pyplot as plt\n",
    "\n",
    "num_experimentos = 30\n",
    "num_corridas = 100\n",
    "\n",
    "tiempos_experimentos = []\n",
    "criticidad_accesos_experimentos = []\n",
    "\n",
    "\n",
    "tareas = {\n",
    "    'A' : {'nombre' : \"Romper huevos\", 'demora_min': 2, 'demora_max': 4},\n",
    "    'B' : {'nombre' : \"Revolver huevos\", 'demora_min': 3, 'demora_max': 6},\n",
    "    'C' : {'nombre' : \"Cocinar huevos\", 'demora_min': 2, 'demora_max': 5},\n",
    "    'D' : {'nombre' : \"Cortar panes\", 'demora_min': 3, 'demora_max': 6},\n",
    "    'E' : {'nombre' : \"Preparar tostadas\", 'demora_min': 2, 'demora_max': 5},\n",
    "    'F' : {'nombre' : \"Preparar bebidas calientes\", 'demora_min': 4, 'demora_max': 8},\n",
    "    'G' : {'nombre' : \"Preparar bebidas frías\", 'demora_min': 3, 'demora_max': 7}\n",
    "}\n",
    "\n",
    "def generar_tiempo(min, max, size):\n",
    "    return np.random.uniform(min, max, size)\n",
    "\n",
    "def realizar_tarea(ref):\n",
    "    tarea = tareas[ref]\n",
    "    tiempo = generar_tiempo(tarea['demora_min'], tarea['demora_max'], 1)\n",
    "    return tiempo\n",
    "\n",
    "def simular_tareas():\n",
    "\n",
    "    #Tiempos de tareas acceso superior\n",
    "    tarea_a = realizar_tarea('A')\n",
    "    tarea_b = realizar_tarea('B')\n",
    "    tarea_c = realizar_tarea('C')\n",
    "    acceso_superior = max(tarea_a + tarea_b + tarea_c)\n",
    "    \n",
    "    #Tiempos de tareas acceso medio\n",
    "    tarea_d = realizar_tarea('D')\n",
    "    tarea_e = realizar_tarea('E')\n",
    "    acceso_medio = max(tarea_d + tarea_e)\n",
    "    \n",
    "    #Tiempos de tareas acceso inferior\n",
    "    tarea_f = realizar_tarea('F')\n",
    "    tarea_g = realizar_tarea('G')\n",
    "    acceso_inferior = max(tarea_f + tarea_g)\n",
    "\n",
    "    tiempo_total = max(acceso_superior, acceso_medio, acceso_inferior) #El tiempo maximo de los 3 accesos\n",
    "    return tiempo_total, acceso_superior, acceso_medio, acceso_inferior\n",
    "\n",
    "\"\"\"\n",
    "Simular el experimento segun la cantidad de corridas de la simulacion de tareas\n",
    "para determinar la criticidad de las mismas.\n",
    "\"\"\"\n",
    "def simular_experimento(num_corridas):\n",
    "    tiempos_experimento = []\n",
    "    criticidad_accesos = {'superior': 0, 'medio': 0, 'inferior': 0}\n",
    "\n",
    "    for _ in range(num_corridas):\n",
    "        tiempo_total, acceso_superior, acceso_medio, acceso_inferior = simular_tareas()\n",
    "        tiempos_experimento.append(tiempo_total)\n",
    "\n",
    "        if tiempo_total == acceso_superior:\n",
    "            criticidad_accesos['superior'] += 1\n",
    "        if tiempo_total == acceso_medio:\n",
    "            criticidad_accesos['medio'] += 1\n",
    "        if tiempo_total == acceso_inferior:\n",
    "            criticidad_accesos['inferior'] += 1\n",
    "\n",
    "    return tiempos_experimento, criticidad_accesos\n",
    "\n",
    "def calcular_intervalo_confianza(media_muestral, mult_desvio, desvio_estandar, z, n):\n",
    "    error_estandar = z * ( (mult_desvio * desvio_estandar) / np.sqrt(n))\n",
    "    extremo_inferior = media_muestral - error_estandar\n",
    "    extremo_superior = media_muestral + error_estandar\n",
    "    \n",
    "    return extremo_inferior, extremo_superior\n"
   ]
  },
  {
   "cell_type": "code",
   "execution_count": 43,
   "metadata": {},
   "outputs": [],
   "source": [
    "for _ in range(num_experimentos):\n",
    "    tiempos_experimento, criticidad_accesos = simular_experimento(num_corridas)\n",
    "    tiempos_experimentos.append(tiempos_experimento)\n",
    "    criticidad_accesos_experimentos.append(criticidad_accesos)\n"
   ]
  },
  {
   "cell_type": "code",
   "execution_count": 44,
   "metadata": {},
   "outputs": [
    {
     "name": "stdout",
     "output_type": "stream",
     "text": [
      "Tiempo promedio de finalización del proyecto: 11.89991139758844\n",
      "Intervalo de confianza al 99%: (11.89991139758844, 11.89991139758844)\n"
     ]
    }
   ],
   "source": [
    "# 1. Calcular tiempo promedio de finalización del proyecto e IC\n",
    "tiempos_experimentos = np.array(tiempos_experimentos)\n",
    "tiempo_promedio_experimentos = np.mean(tiempos_experimentos)\n",
    "tiempo_promedio = np.mean(tiempo_promedio_experimentos)\n",
    "#ic_99 = np.percentile(tiempo_promedio_experimentos, [0.5, 99.5])\n",
    "ic_99_inf, ic_99_sup = calcular_intervalo_confianza(tiempo_promedio, 1, np.std(tiempo_promedio_experimentos), 2.57, num_experimentos)\n",
    "print(\"Tiempo promedio de finalización del proyecto:\", tiempo_promedio)\n",
    "print(\"Intervalo de confianza al 99%:\", (ic_99_inf, ic_99_sup))"
   ]
  },
  {
   "cell_type": "code",
   "execution_count": 19,
   "metadata": {},
   "outputs": [
    {
     "name": "stdout",
     "output_type": "stream",
     "text": [
      "Porcentaje de criticidad para acceso superior : 49.666666666666664\n",
      "Porcentaje de criticidad para acceso medio : 1.0999999999999999\n",
      "Porcentaje de criticidad para acceso inferior : 49.233333333333334\n"
     ]
    }
   ],
   "source": [
    "# 2. Calcular porcentaje de criticidad de los accesos\n",
    "total_corridas = num_experimentos * num_corridas\n",
    "criticidad_accesos_totales = {'superior': 0, 'medio': 0, 'inferior': 0}\n",
    "\n",
    "for criticidad_accesos in criticidad_accesos_experimentos:\n",
    "    for key, value in criticidad_accesos.items():\n",
    "        criticidad_accesos_totales[key] += value\n",
    "\n",
    "for key, value in criticidad_accesos_totales.items():\n",
    "    print(\"Porcentaje de criticidad para acceso\", key, \":\", value / total_corridas * 100)\n"
   ]
  },
  {
   "cell_type": "code",
   "execution_count": 20,
   "metadata": {},
   "outputs": [
    {
     "data": {
      "image/png": "[encoded data removed]",
      "text/plain": [
       "<Figure size 720x432 with 1 Axes>"
      ]
     },
     "metadata": {
      "needs_background": "light"
     },
     "output_type": "display_data"
    },
    {
     "data": {
      "image/png": "[encoded data removed]",
      "text/plain": [
       "<Figure size 720x432 with 1 Axes>"
      ]
     },
     "metadata": {
      "needs_background": "light"
     },
     "output_type": "display_data"
    }
   ],
   "source": [
    "# 3. Graficar histograma de distribución del tiempo de realización del proyecto\n",
    "plt.figure(figsize=(10, 6))\n",
    "plt.hist(tiempos_experimentos.flatten(), bins=30, alpha=0.7, color='blue', edgecolor='black')\n",
    "plt.title('Distribución del tiempo de realización del proyecto')\n",
    "plt.xlabel('Tiempo de finalización del proyecto')\n",
    "plt.ylabel('Frecuencia')\n",
    "plt.grid(True)\n",
    "plt.show()\n",
    "\n",
    "# Graficar histograma de promedios de los 30 experimentos\n",
    "plt.figure(figsize=(10, 6))\n",
    "plt.hist(tiempo_promedio_experimentos, bins=30, alpha=0.7, color='green', edgecolor='black')\n",
    "plt.title('Distribución de promedios de los 30 experimentos')\n",
    "plt.xlabel('Promedio de tiempo de finalización del proyecto')\n",
    "plt.ylabel('Frecuencia')\n",
    "plt.grid(True)\n",
    "plt.show()"
   ]
  }
 ],
 "metadata": {
  "kernelspec": {
   "display_name": "Python 3",
   "language": "python",
   "name": "python3"
  },
  "language_info": {
   "codemirror_mode": {
    "name": "ipython",
    "version": 3
   },
   "file_extension": ".py",
   "mimetype": "text/x-python",
   "name": "python",
   "nbconvert_exporter": "python",
   "pygments_lexer": "ipython3",
   "version": "3.11.2"
  }
 },
 "nbformat": 4,
 "nbformat_minor": 2
}
