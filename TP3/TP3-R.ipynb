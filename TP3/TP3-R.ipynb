{
 "cells": [
  {
   "cell_type": "markdown",
   "id": "2f0ce118-04c5-4eaa-a2ff-cd2788f867f5",
   "metadata": {},
   "source": [
    "# Modelos y Simulación\n",
    "\n",
    "## Trabajo Práctico N°3: \n",
    "## Generación de números aleatorios\n",
    "\n",
    "### Alumno: Barea Matias\n",
    "\n",
    "### Profesores: Lic. Claudia López de Munain - Lic. Bruno Alfredo Pazos\n"
   ]
  },
  {
   "cell_type": "markdown",
   "id": "307e2330-7401-4186-8fa8-daa1581bd2e2",
   "metadata": {},
   "source": [
    "### Respuestas:"
   ]
  },
  {
   "cell_type": "markdown",
   "id": "018959b7",
   "metadata": {},
   "source": [
    "1.  R permite la generacion de numeros aleatorios de manera nativa. En este ambiente es un requerimiento esencial para en investigacion cientifica. \n",
    "A modo de ejemplo se genero una muestra de 100 numeros de esta manera:"
   ]
  },
  {
   "cell_type": "code",
   "execution_count": 6,
   "id": "7fb71d8f",
   "metadata": {},
   "outputs": [
    {
     "name": "stdout",
     "output_type": "stream",
     "text": [
      "  [1] 0.56 0.87 0.06 0.66 0.05 0.97 0.70 0.75 0.33 0.96 0.90 0.98 0.66 0.09 0.41\n",
      " [16] 0.80 0.16 0.97 0.48 0.75 0.90 0.78 0.26 0.51 0.23 0.71 0.28 0.50 0.53 0.47\n",
      " [31] 0.96 0.00 0.82 0.62 0.93 0.86 0.16 0.71 0.93 0.28 0.95 0.91 0.97 0.62 1.00\n",
      " [46] 0.88 0.22 0.48 0.07 0.14 0.90 0.45 0.70 0.92 0.27 0.76 0.94 0.37 0.99 0.84\n",
      " [61] 0.63 0.17 0.69 0.81 0.34 0.33 0.21 0.77 0.45 0.59 0.99 0.92 0.25 0.49 0.88\n",
      " [76] 0.41 0.55 0.72 0.03 0.37 0.34 0.07 0.55 0.16 0.80 0.76 0.87 0.80 0.32 0.90\n",
      " [91] 0.64 0.38 0.43 0.64 0.75 0.27 0.83 0.75 0.21 0.93\n"
     ]
    }
   ],
   "source": [
    "muestra <- sample(seq(0, 1, by = 0.01), 100, replace = TRUE)\n",
    "print(muestra)"
   ]
  },
  {
   "cell_type": "markdown",
   "id": "eec20dfe",
   "metadata": {},
   "source": [
    "a) Calcular la media"
   ]
  },
  {
   "cell_type": "code",
   "execution_count": 7,
   "id": "19c361d8",
   "metadata": {},
   "outputs": [
    {
     "name": "stdout",
     "output_type": "stream",
     "text": [
      "[1] 0.5893\n"
     ]
    }
   ],
   "source": [
    "media <- mean(muestra) # Media\n",
    "print(media)"
   ]
  },
  {
   "cell_type": "markdown",
   "id": "70bf8b2a",
   "metadata": {},
   "source": [
    "b) Calcular el desvio estandar"
   ]
  },
  {
   "cell_type": "code",
   "execution_count": 8,
   "id": "c3f4fe25",
   "metadata": {},
   "outputs": [
    {
     "name": "stdout",
     "output_type": "stream",
     "text": [
      "[1] 0.2936852\n"
     ]
    }
   ],
   "source": [
    "desvio_estandar <- sd(muestra) # Desvio estandar\n",
    "print(desvio_estandar)"
   ]
  },
  {
   "cell_type": "markdown",
   "id": "1906f20e",
   "metadata": {},
   "source": [
    "c) Calcular la varianza"
   ]
  },
  {
   "cell_type": "code",
   "execution_count": 9,
   "id": "8b346868",
   "metadata": {},
   "outputs": [
    {
     "name": "stdout",
     "output_type": "stream",
     "text": [
      "[1] 0.08625102\n"
     ]
    }
   ],
   "source": [
    "varianza <- var(muestra) # Varianza\n",
    "print(varianza)"
   ]
  },
  {
   "cell_type": "markdown",
   "id": "143591b1",
   "metadata": {},
   "source": [
    "d) Los graficos tambien pueden ser generados de manera nativa metiante la funcion ```hist()```. El histograma es el gráfico más habitual para representar datos continuos que representa las frecuencias en las que aparecen las mediciones agrupadas en ciertos intervalos y cuenta cuántas observaciones caen en cada intervalo. Además, la altura está determinada por el ratio entre la frecuencia y el ancho del intervalo."
   ]
  },
  {
   "cell_type": "code",
   "execution_count": 5,
   "id": "842d94af",
   "metadata": {},
   "outputs": [
    {
     "data": {
      "image/png": "[encoded data removed]",
      "text/plain": [
       "Plot with title \"Histograma de la muestra generada\""
      ]
     },
     "metadata": {
      "image/png": {
       "height": 420,
       "width": 420
      }
     },
     "output_type": "display_data"
    }
   ],
   "source": [
    "hist(muestra, breaks=10, col='lightblue', border='black', xlab='Valor', ylab='Frecuencia', main='Histograma de la muestra generada') # Histograma\n",
    "\n",
    "abline(v=media, col='red', lwd=2) # Linea para mostrar la media\n",
    "abline(v=c(media - desvio_estandar, media + desvio_estandar), col='blue', lwd=2, lty=2) # Linea de la desvio estandar\n",
    "\n",
    "legend('topright', legend=c('Media', 'Desvio estandar'), col=c('red', 'blue'), lwd=2, lty=1:2) # Leyenda del grafico"
   ]
  }
 ],
 "metadata": {
  "kernelspec": {
   "display_name": "Python 3",
   "language": "python",
   "name": "python3"
  },
  "language_info": {
   "codemirror_mode": {
    "name": "ipython",
    "version": 3
   },
   "file_extension": ".py",
   "mimetype": "text/x-python",
   "name": "python",
   "nbconvert_exporter": "python",
   "pygments_lexer": "ipython3",
   "version": "3.11.5"
  }
 },
 "nbformat": 4,
 "nbformat_minor": 5
}
